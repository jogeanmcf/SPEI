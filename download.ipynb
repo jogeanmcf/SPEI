{
 "cells": [
  {
   "cell_type": "code",
   "execution_count": 1,
   "metadata": {},
   "outputs": [],
   "source": [
    "import xarray as xr\n",
    "import pandas as pd\n",
    "import os\n",
    "from ESGF import Domain, Variable, Experiment, DrivingModel, TimeFrequency, Institute,save_bash_scritp"
   ]
  },
  {
   "cell_type": "markdown",
   "metadata": {},
   "source": [
    "# Download"
   ]
  },
  {
   "cell_type": "markdown",
   "metadata": {},
   "source": [
    "## Download SPEI from COPERNICUS project\n",
    "\n",
    "Check the this [dataset](https://cds.climate.copernicus.eu/datasets/multi-origin-c3s-atlas?tab=overview) for mor infos, look for SPEI"
   ]
  },
  {
   "cell_type": "code",
   "execution_count": null,
   "metadata": {},
   "outputs": [],
   "source": [
    "import cdsapi\n",
    "\n",
    "dataset = \"multi-origin-c3s-atlas\"\n",
    "request = {\n",
    "    \"origin\": \"cmip6\",\n",
    "    \"experiment\": \"ssp5_8_5\",\n",
    "    \"domain\": \"global\",\n",
    "    \"period\": \"2015-2100\",\n",
    "    \"variable\": \"monthly_standardised_precipitation_evapotranspiration_index_for_6_months_cumulation_period\"\n",
    "}\n",
    "\n",
    "client = cdsapi.Client()\n",
    "client.retrieve(dataset, request).download()\n"
   ]
  },
  {
   "cell_type": "markdown",
   "metadata": {},
   "source": [
    "## Download raw variables"
   ]
  },
  {
   "cell_type": "code",
   "execution_count": 3,
   "metadata": {},
   "outputs": [],
   "source": [
    "domains_of_interest = [\n",
    "    # Domain.SAM22,\n",
    "    # Domain.NAM22,\n",
    "    Domain.EUR11,\n",
    "    # Domain.AFR44,\n",
    "    # Domain.EAS22,\n",
    "    # Domain.WAS22,\n",
    "]\n",
    "experiments_of_interest = [Experiment.historical, Experiment.rcp26, Experiment.rcp85]\n",
    "variables_of_interest = [Variable.pr, Variable.tas]\n",
    "models_of_interest = [\n",
    "    DrivingModel.hadGEM2_ES,\n",
    "    DrivingModel.HadGEM2_CC,\n",
    "    DrivingModel.NCC_NorESM1_M,\n",
    "    DrivingModel.NCC_NorESM1_ME,\n",
    "    DrivingModel.MOHC_HadGEM2_CC,\n",
    "    DrivingModel.MOHC_HadGEM2_ES,\n",
    "    DrivingModel.MPI_ESM_LR,\n",
    "    DrivingModel.MPI_ESM_MR\n",
    "]"
   ]
  },
  {
   "cell_type": "code",
   "execution_count": null,
   "metadata": {},
   "outputs": [],
   "source": [
    "# TODO: create dataframe to show how many models there is for each domain/experiment/variable"
   ]
  },
  {
   "cell_type": "code",
   "execution_count": 4,
   "metadata": {},
   "outputs": [],
   "source": [
    "## Creating folder structure and downloading wget scipts\n",
    "for domain in domains_of_interest:\n",
    "    for experiment in experiments_of_interest:\n",
    "        for variable in variables_of_interest:\n",
    "            path = f'wget_scripts/{domain}/{experiment}/{variable}'\n",
    "            os.makedirs(path, exist_ok=True)\n",
    "            save_bash_scritp(\n",
    "                domain=domain,\n",
    "                experiment=experiment,\n",
    "                time_frequency=TimeFrequency.month,\n",
    "                variable=variable,\n",
    "                driving_model=models_of_interest,\n",
    "                path=path,\n",
    "            )"
   ]
  },
  {
   "cell_type": "markdown",
   "metadata": {},
   "source": [
    "### Download pr"
   ]
  },
  {
   "cell_type": "code",
   "execution_count": null,
   "metadata": {},
   "outputs": [],
   "source": [
    "%%bash \n",
    "cd ./data/historical/pr/wget_scripts/\n",
    "bash wget-20241228215607.sh -s\n",
    "bash wget-20241228225357.sh -s\n",
    "bash wget-20241228225701.sh -s"
   ]
  },
  {
   "cell_type": "markdown",
   "metadata": {},
   "source": [
    "### Download tas"
   ]
  },
  {
   "cell_type": "code",
   "execution_count": null,
   "metadata": {},
   "outputs": [],
   "source": [
    "%%bash \n",
    "cd ./data/historical/tas/wget_scripts/\n",
    "bash wget-20241228220807.sh -s\n",
    "bash wget-20241228230852.sh -s\n",
    "bash wget-20241228230930.sh -s"
   ]
  },
  {
   "cell_type": "markdown",
   "metadata": {},
   "source": [
    "# Organizing files"
   ]
  },
  {
   "cell_type": "code",
   "execution_count": 14,
   "metadata": {},
   "outputs": [],
   "source": [
    "for domain in domains_of_interest:\n",
    "    for experiment in experiments_of_interest:\n",
    "        for variable in variables_of_interest:\n",
    "            origin_path = f\"wget_scripts/{domain}/{experiment}/{variable}\"\n",
    "\n",
    "            file_names = [\n",
    "                file_name\n",
    "                for file_name in os.listdir(origin_path)\n",
    "                if file_name.endswith(\".nc\")\n",
    "            ]\n",
    "            models = set([file_name.split(\"_\")[2] for file_name in file_names])\n",
    "            for model in models:\n",
    "                destiny_path = f\"./data/{domain}/{experiment}/{variable}/{model}\"\n",
    "                _file_names = [\n",
    "                    file_name for file_name in file_names if model in file_name\n",
    "                ]\n",
    "                os.makedirs(destiny_path, exist_ok=True)\n",
    "                for file_name in _file_names:\n",
    "                    os.system(\n",
    "                        f\"mv {origin_path}/{file_name} {destiny_path}/{file_name}\"\n",
    "                    )\n"
   ]
  },
  {
   "cell_type": "markdown",
   "metadata": {},
   "source": [
    "# Checking File Integrity and Dimensions"
   ]
  },
  {
   "cell_type": "code",
   "execution_count": null,
   "metadata": {},
   "outputs": [],
   "source": [
    "# TODO: create scritp to check file ingetity"
   ]
  },
  {
   "cell_type": "code",
   "execution_count": 18,
   "metadata": {},
   "outputs": [
    {
     "name": "stdout",
     "output_type": "stream",
     "text": [
      "Frozen({'time': 540, 'bnds': 2, 'lat': 256, 'lon': 512})\n",
      "Frozen({'time': 540, 'bnds': 2, 'lat': 324, 'lon': 432})\n",
      "Frozen({'time': 540, 'bnds': 2, 'lat': 192, 'lon': 288})\n"
     ]
    }
   ],
   "source": [
    "# TODO: Update scripts to check dataset dimensions\n",
    "variable = 'pr'\n",
    "experiment = 'historical'  \n",
    "\n",
    "models = [folder_name for folder_name in os.listdir(f'./data/{experiment}/{variable}/') if 'wget_scripts' not in folder_name]\n",
    "models.sort()\n",
    "\n",
    "for model in models:\n",
    "    ds = xr.open_mfdataset(f'./data/{experiment}/{variable}/{model}/*.nc')\n",
    "    print(ds.sizes)\n",
    "        "
   ]
  },
  {
   "cell_type": "code",
   "execution_count": 19,
   "metadata": {},
   "outputs": [
    {
     "name": "stdout",
     "output_type": "stream",
     "text": [
      "Frozen({'time': 540, 'bnds': 2, 'lat': 256, 'lon': 512})\n",
      "Frozen({'time': 540, 'bnds': 2, 'lat': 324, 'lon': 432})\n",
      "Frozen({'time': 540, 'bnds': 2, 'lat': 192, 'lon': 288})\n"
     ]
    }
   ],
   "source": [
    "# checking datasets dimensions\n",
    "variable = 'tas'\n",
    "models = [folder_name for folder_name in os.listdir(f'./data/{experiment}/{variable}/') if 'wget_scripts' not in folder_name]\n",
    "models.sort()\n",
    "\n",
    "for model in models:\n",
    "    ds = xr.open_mfdataset(f'./data/{experiment}/{variable}/{model}/*.nc')\n",
    "    print(ds.sizes)"
   ]
  },
  {
   "cell_type": "code",
   "execution_count": null,
   "metadata": {},
   "outputs": [],
   "source": []
  },
  {
   "cell_type": "code",
   "execution_count": null,
   "metadata": {},
   "outputs": [],
   "source": []
  }
 ],
 "metadata": {
  "kernelspec": {
   "display_name": "spei-JrbXube1-py3.10",
   "language": "python",
   "name": "python3"
  },
  "language_info": {
   "codemirror_mode": {
    "name": "ipython",
    "version": 3
   },
   "file_extension": ".py",
   "mimetype": "text/x-python",
   "name": "python",
   "nbconvert_exporter": "python",
   "pygments_lexer": "ipython3",
   "version": "3.10.12"
  }
 },
 "nbformat": 4,
 "nbformat_minor": 2
}
