{
 "cells": [
  {
   "cell_type": "code",
   "execution_count": null,
   "metadata": {},
   "outputs": [],
   "source": [
    "import xarray as xr"
   ]
  },
  {
   "cell_type": "markdown",
   "metadata": {},
   "source": [
    "# Download"
   ]
  },
  {
   "cell_type": "markdown",
   "metadata": {},
   "source": [
    "## Download SPEI from COPERNICUS project\n",
    "\n",
    "Check the this [dataset](https://cds.climate.copernicus.eu/datasets/multi-origin-c3s-atlas?tab=overview) for mor infos, look for SPEI"
   ]
  },
  {
   "cell_type": "code",
   "execution_count": null,
   "metadata": {},
   "outputs": [],
   "source": [
    "import cdsapi\n",
    "\n",
    "dataset = \"multi-origin-c3s-atlas\"\n",
    "request = {\n",
    "    \"origin\": \"cmip6\",\n",
    "    \"experiment\": \"ssp5_8_5\",\n",
    "    \"domain\": \"global\",\n",
    "    \"period\": \"2015-2100\",\n",
    "    \"variable\": \"monthly_standardised_precipitation_evapotranspiration_index_for_6_months_cumulation_period\"\n",
    "}\n",
    "\n",
    "client = cdsapi.Client()\n",
    "client.retrieve(dataset, request).download()\n"
   ]
  },
  {
   "cell_type": "markdown",
   "metadata": {},
   "source": [
    "## Download raw variables"
   ]
  },
  {
   "cell_type": "markdown",
   "metadata": {},
   "source": [
    "### Download pr"
   ]
  },
  {
   "cell_type": "code",
   "execution_count": null,
   "metadata": {},
   "outputs": [],
   "source": [
    "%%bash \n",
    "cd ./data/pr\n",
    "bash wget-20241222212617.sh -s\n",
    "bash wget-20241222220936.sh -s\n",
    "bash wget-20241222230917.sh -s"
   ]
  },
  {
   "cell_type": "markdown",
   "metadata": {},
   "source": [
    "### Download tas"
   ]
  },
  {
   "cell_type": "code",
   "execution_count": null,
   "metadata": {},
   "outputs": [],
   "source": [
    "%%bash \n",
    "cd ./data/tas\n",
    "bash wget-20241222212252.sh -s\n",
    "bash wget-20241222221111.sh -s\n",
    "bash wget-20241222231101.sh -s"
   ]
  },
  {
   "cell_type": "code",
   "execution_count": null,
   "metadata": {},
   "outputs": [],
   "source": []
  },
  {
   "cell_type": "markdown",
   "metadata": {},
   "source": [
    "# Organizing files"
   ]
  },
  {
   "cell_type": "code",
   "execution_count": null,
   "metadata": {},
   "outputs": [],
   "source": [
    "import os\n",
    "\n",
    "file_names = [file_name for file_name in os.listdir('./data/pr/') if file_name.endswith('.nc')]\n"
   ]
  },
  {
   "cell_type": "code",
   "execution_count": null,
   "metadata": {},
   "outputs": [],
   "source": [
    "'pr_Amon_MPI-ESM1-2-HR_ssp585_r1i1p1f1_gn_201501-201912'.split('_')[2:5:2]"
   ]
  },
  {
   "cell_type": "markdown",
   "metadata": {},
   "source": [
    "# Checking File Integrity and Dimensions"
   ]
  },
  {
   "cell_type": "code",
   "execution_count": null,
   "metadata": {},
   "outputs": [],
   "source": [
    "variable = 'pr'\n",
    "models = os.listdir(f'./data/{variable}/')\n",
    "\n",
    "for model in models:\n",
    "    ds = xr.open_mfdataset(f'./data/{variable}/{model}/*.nc')\n",
    "    print(ds.sizes)\n",
    "        "
   ]
  },
  {
   "cell_type": "code",
   "execution_count": null,
   "metadata": {},
   "outputs": [],
   "source": []
  }
 ],
 "metadata": {
  "kernelspec": {
   "display_name": "spei-JrbXube1-py3.10",
   "language": "python",
   "name": "python3"
  },
  "language_info": {
   "codemirror_mode": {
    "name": "ipython",
    "version": 3
   },
   "file_extension": ".py",
   "mimetype": "text/x-python",
   "name": "python",
   "nbconvert_exporter": "python",
   "pygments_lexer": "ipython3",
   "version": "3.10.12"
  }
 },
 "nbformat": 4,
 "nbformat_minor": 2
}
